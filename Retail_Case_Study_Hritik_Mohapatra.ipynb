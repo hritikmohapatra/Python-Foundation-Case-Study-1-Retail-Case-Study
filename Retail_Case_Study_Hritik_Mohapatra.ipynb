{
 "cells": [
  {
   "cell_type": "code",
   "execution_count": 1,
   "id": "20511ab3",
   "metadata": {},
   "outputs": [],
   "source": [
    "import numpy as np\n",
    "import pandas as pd\n",
    "import matplotlib.pyplot as plt\n",
    "import seaborn as sns\n",
    "import warnings\n",
    "import datetime\n",
    "warnings.filterwarnings('ignore')"
   ]
  },
  {
   "cell_type": "code",
   "execution_count": 2,
   "id": "12e7c805",
   "metadata": {},
   "outputs": [],
   "source": [
    "plt.style.use('ggplot')"
   ]
  },
  {
   "cell_type": "code",
   "execution_count": 3,
   "id": "1a851cd8",
   "metadata": {},
   "outputs": [],
   "source": [
    "customer = pd.read_csv('Customer.csv')\n",
    "transaction = pd.read_csv('Transactions.csv')\n",
    "product_category = pd.read_csv('prod_cat_info.csv')"
   ]
  },
  {
   "cell_type": "markdown",
   "id": "d97ca953",
   "metadata": {},
   "source": [
    "### 1. Merge the datasets Customers, Product Hierarchy and Transactions as Customer_Final. Ensure to keep all customers who have done transactions with us and select the join type accordingly.\n"
   ]
  },
  {
   "cell_type": "code",
   "execution_count": 4,
   "id": "17e496f8",
   "metadata": {},
   "outputs": [],
   "source": [
    "merge1 = pd.merge(left=transaction,\n",
    "                  right=customer,\n",
    "                  left_on='cust_id',\n",
    "                  right_on='customer_Id',\n",
    "                  how = 'inner'\n",
    "                 )"
   ]
  },
  {
   "cell_type": "code",
   "execution_count": 5,
   "id": "26bdd578",
   "metadata": {},
   "outputs": [],
   "source": [
    "Customer_Final = pd.merge(left = merge1,\n",
    "                          right= product_category,\n",
    "                          left_on=['prod_cat_code','prod_subcat_code'],\n",
    "                          right_on=['prod_cat_code','prod_sub_cat_code'],\n",
    "                          how = 'inner'                         \n",
    "                         )"
   ]
  },
  {
   "cell_type": "markdown",
   "id": "e8d55a81",
   "metadata": {},
   "source": [
    "<h3> 2. Prepare a summary report for the merged data set.<br>\n",
    "     a. Get the column names and their corresponding data types<br>\n",
    "     b. Top/Bottom 10 observations<br>\n",
    "     c. “Five-number summary” for continuous variables (min, Q1, median, Q3 and max)<br>\n",
    "     d. Frequency tables for all the categorical variables\n",
    " \n",
    "</h3>"
   ]
  },
  {
   "cell_type": "code",
   "execution_count": 6,
   "id": "0487a8c9",
   "metadata": {},
   "outputs": [
    {
     "name": "stdout",
     "output_type": "stream",
     "text": [
      "<class 'pandas.core.frame.DataFrame'>\n",
      "Int64Index: 23053 entries, 0 to 23052\n",
      "Data columns (total 17 columns):\n",
      " #   Column             Non-Null Count  Dtype  \n",
      "---  ------             --------------  -----  \n",
      " 0   transaction_id     23053 non-null  int64  \n",
      " 1   cust_id            23053 non-null  int64  \n",
      " 2   tran_date          23053 non-null  object \n",
      " 3   prod_subcat_code   23053 non-null  int64  \n",
      " 4   prod_cat_code      23053 non-null  int64  \n",
      " 5   Qty                23053 non-null  int64  \n",
      " 6   Rate               23053 non-null  int64  \n",
      " 7   Tax                23053 non-null  float64\n",
      " 8   total_amt          23053 non-null  float64\n",
      " 9   Store_type         23053 non-null  object \n",
      " 10  customer_Id        23053 non-null  int64  \n",
      " 11  DOB                23053 non-null  object \n",
      " 12  Gender             23044 non-null  object \n",
      " 13  city_code          23045 non-null  float64\n",
      " 14  prod_cat           23053 non-null  object \n",
      " 15  prod_sub_cat_code  23053 non-null  int64  \n",
      " 16  prod_subcat        23053 non-null  object \n",
      "dtypes: float64(3), int64(8), object(6)\n",
      "memory usage: 3.2+ MB\n"
     ]
    }
   ],
   "source": [
    "#a\n",
    "\n",
    "Customer_Final.info()"
   ]
  },
  {
   "cell_type": "code",
   "execution_count": 7,
   "id": "d0c370c9",
   "metadata": {},
   "outputs": [
    {
     "data": {
      "text/html": [
       "<div>\n",
       "<style scoped>\n",
       "    .dataframe tbody tr th:only-of-type {\n",
       "        vertical-align: middle;\n",
       "    }\n",
       "\n",
       "    .dataframe tbody tr th {\n",
       "        vertical-align: top;\n",
       "    }\n",
       "\n",
       "    .dataframe thead th {\n",
       "        text-align: right;\n",
       "    }\n",
       "</style>\n",
       "<table border=\"1\" class=\"dataframe\">\n",
       "  <thead>\n",
       "    <tr style=\"text-align: right;\">\n",
       "      <th></th>\n",
       "      <th>transaction_id</th>\n",
       "      <th>cust_id</th>\n",
       "      <th>tran_date</th>\n",
       "      <th>prod_subcat_code</th>\n",
       "      <th>prod_cat_code</th>\n",
       "      <th>Qty</th>\n",
       "      <th>Rate</th>\n",
       "      <th>Tax</th>\n",
       "      <th>total_amt</th>\n",
       "      <th>Store_type</th>\n",
       "      <th>customer_Id</th>\n",
       "      <th>DOB</th>\n",
       "      <th>Gender</th>\n",
       "      <th>city_code</th>\n",
       "      <th>prod_cat</th>\n",
       "      <th>prod_sub_cat_code</th>\n",
       "      <th>prod_subcat</th>\n",
       "    </tr>\n",
       "  </thead>\n",
       "  <tbody>\n",
       "    <tr>\n",
       "      <th>0</th>\n",
       "      <td>80712190438</td>\n",
       "      <td>270351</td>\n",
       "      <td>28-02-2014</td>\n",
       "      <td>1</td>\n",
       "      <td>1</td>\n",
       "      <td>-5</td>\n",
       "      <td>-772</td>\n",
       "      <td>405.300</td>\n",
       "      <td>-4265.300</td>\n",
       "      <td>e-Shop</td>\n",
       "      <td>270351</td>\n",
       "      <td>26-09-1981</td>\n",
       "      <td>M</td>\n",
       "      <td>5.0</td>\n",
       "      <td>Clothing</td>\n",
       "      <td>1</td>\n",
       "      <td>Women</td>\n",
       "    </tr>\n",
       "    <tr>\n",
       "      <th>1</th>\n",
       "      <td>80712190438</td>\n",
       "      <td>270351</td>\n",
       "      <td>20-02-2014</td>\n",
       "      <td>1</td>\n",
       "      <td>1</td>\n",
       "      <td>5</td>\n",
       "      <td>772</td>\n",
       "      <td>405.300</td>\n",
       "      <td>4265.300</td>\n",
       "      <td>e-Shop</td>\n",
       "      <td>270351</td>\n",
       "      <td>26-09-1981</td>\n",
       "      <td>M</td>\n",
       "      <td>5.0</td>\n",
       "      <td>Clothing</td>\n",
       "      <td>1</td>\n",
       "      <td>Women</td>\n",
       "    </tr>\n",
       "    <tr>\n",
       "      <th>2</th>\n",
       "      <td>18505840838</td>\n",
       "      <td>271509</td>\n",
       "      <td>16-12-2013</td>\n",
       "      <td>1</td>\n",
       "      <td>1</td>\n",
       "      <td>3</td>\n",
       "      <td>1229</td>\n",
       "      <td>387.135</td>\n",
       "      <td>4074.135</td>\n",
       "      <td>Flagship store</td>\n",
       "      <td>271509</td>\n",
       "      <td>08-06-1981</td>\n",
       "      <td>M</td>\n",
       "      <td>3.0</td>\n",
       "      <td>Clothing</td>\n",
       "      <td>1</td>\n",
       "      <td>Women</td>\n",
       "    </tr>\n",
       "    <tr>\n",
       "      <th>3</th>\n",
       "      <td>92814475704</td>\n",
       "      <td>267750</td>\n",
       "      <td>16-08-2013</td>\n",
       "      <td>1</td>\n",
       "      <td>1</td>\n",
       "      <td>-4</td>\n",
       "      <td>-284</td>\n",
       "      <td>119.280</td>\n",
       "      <td>-1255.280</td>\n",
       "      <td>Flagship store</td>\n",
       "      <td>267750</td>\n",
       "      <td>13-10-1986</td>\n",
       "      <td>M</td>\n",
       "      <td>1.0</td>\n",
       "      <td>Clothing</td>\n",
       "      <td>1</td>\n",
       "      <td>Women</td>\n",
       "    </tr>\n",
       "    <tr>\n",
       "      <th>4</th>\n",
       "      <td>92814475704</td>\n",
       "      <td>267750</td>\n",
       "      <td>7/8/2013</td>\n",
       "      <td>1</td>\n",
       "      <td>1</td>\n",
       "      <td>4</td>\n",
       "      <td>284</td>\n",
       "      <td>119.280</td>\n",
       "      <td>1255.280</td>\n",
       "      <td>Flagship store</td>\n",
       "      <td>267750</td>\n",
       "      <td>13-10-1986</td>\n",
       "      <td>M</td>\n",
       "      <td>1.0</td>\n",
       "      <td>Clothing</td>\n",
       "      <td>1</td>\n",
       "      <td>Women</td>\n",
       "    </tr>\n",
       "    <tr>\n",
       "      <th>5</th>\n",
       "      <td>4737317330</td>\n",
       "      <td>269345</td>\n",
       "      <td>29-07-2011</td>\n",
       "      <td>1</td>\n",
       "      <td>1</td>\n",
       "      <td>5</td>\n",
       "      <td>1141</td>\n",
       "      <td>599.025</td>\n",
       "      <td>6304.025</td>\n",
       "      <td>MBR</td>\n",
       "      <td>269345</td>\n",
       "      <td>26-06-1970</td>\n",
       "      <td>F</td>\n",
       "      <td>10.0</td>\n",
       "      <td>Clothing</td>\n",
       "      <td>1</td>\n",
       "      <td>Women</td>\n",
       "    </tr>\n",
       "    <tr>\n",
       "      <th>6</th>\n",
       "      <td>44425889101</td>\n",
       "      <td>274987</td>\n",
       "      <td>18-03-2012</td>\n",
       "      <td>1</td>\n",
       "      <td>1</td>\n",
       "      <td>4</td>\n",
       "      <td>897</td>\n",
       "      <td>376.740</td>\n",
       "      <td>3964.740</td>\n",
       "      <td>Flagship store</td>\n",
       "      <td>274987</td>\n",
       "      <td>08-10-1983</td>\n",
       "      <td>M</td>\n",
       "      <td>2.0</td>\n",
       "      <td>Clothing</td>\n",
       "      <td>1</td>\n",
       "      <td>Women</td>\n",
       "    </tr>\n",
       "    <tr>\n",
       "      <th>7</th>\n",
       "      <td>90501340928</td>\n",
       "      <td>271817</td>\n",
       "      <td>19-02-2012</td>\n",
       "      <td>1</td>\n",
       "      <td>1</td>\n",
       "      <td>1</td>\n",
       "      <td>1122</td>\n",
       "      <td>117.810</td>\n",
       "      <td>1239.810</td>\n",
       "      <td>TeleShop</td>\n",
       "      <td>271817</td>\n",
       "      <td>24-12-1989</td>\n",
       "      <td>M</td>\n",
       "      <td>8.0</td>\n",
       "      <td>Clothing</td>\n",
       "      <td>1</td>\n",
       "      <td>Women</td>\n",
       "    </tr>\n",
       "    <tr>\n",
       "      <th>8</th>\n",
       "      <td>99335419136</td>\n",
       "      <td>268755</td>\n",
       "      <td>13-12-2012</td>\n",
       "      <td>1</td>\n",
       "      <td>1</td>\n",
       "      <td>3</td>\n",
       "      <td>1181</td>\n",
       "      <td>372.015</td>\n",
       "      <td>3915.015</td>\n",
       "      <td>e-Shop</td>\n",
       "      <td>268755</td>\n",
       "      <td>15-07-1984</td>\n",
       "      <td>F</td>\n",
       "      <td>8.0</td>\n",
       "      <td>Clothing</td>\n",
       "      <td>1</td>\n",
       "      <td>Women</td>\n",
       "    </tr>\n",
       "    <tr>\n",
       "      <th>9</th>\n",
       "      <td>35030444164</td>\n",
       "      <td>268129</td>\n",
       "      <td>18-11-2011</td>\n",
       "      <td>1</td>\n",
       "      <td>1</td>\n",
       "      <td>5</td>\n",
       "      <td>1047</td>\n",
       "      <td>549.675</td>\n",
       "      <td>5784.675</td>\n",
       "      <td>MBR</td>\n",
       "      <td>268129</td>\n",
       "      <td>07-08-1982</td>\n",
       "      <td>F</td>\n",
       "      <td>9.0</td>\n",
       "      <td>Clothing</td>\n",
       "      <td>1</td>\n",
       "      <td>Women</td>\n",
       "    </tr>\n",
       "  </tbody>\n",
       "</table>\n",
       "</div>"
      ],
      "text/plain": [
       "   transaction_id  cust_id   tran_date  prod_subcat_code  prod_cat_code  Qty  \\\n",
       "0     80712190438   270351  28-02-2014                 1              1   -5   \n",
       "1     80712190438   270351  20-02-2014                 1              1    5   \n",
       "2     18505840838   271509  16-12-2013                 1              1    3   \n",
       "3     92814475704   267750  16-08-2013                 1              1   -4   \n",
       "4     92814475704   267750    7/8/2013                 1              1    4   \n",
       "5      4737317330   269345  29-07-2011                 1              1    5   \n",
       "6     44425889101   274987  18-03-2012                 1              1    4   \n",
       "7     90501340928   271817  19-02-2012                 1              1    1   \n",
       "8     99335419136   268755  13-12-2012                 1              1    3   \n",
       "9     35030444164   268129  18-11-2011                 1              1    5   \n",
       "\n",
       "   Rate      Tax  total_amt      Store_type  customer_Id         DOB Gender  \\\n",
       "0  -772  405.300  -4265.300          e-Shop       270351  26-09-1981      M   \n",
       "1   772  405.300   4265.300          e-Shop       270351  26-09-1981      M   \n",
       "2  1229  387.135   4074.135  Flagship store       271509  08-06-1981      M   \n",
       "3  -284  119.280  -1255.280  Flagship store       267750  13-10-1986      M   \n",
       "4   284  119.280   1255.280  Flagship store       267750  13-10-1986      M   \n",
       "5  1141  599.025   6304.025             MBR       269345  26-06-1970      F   \n",
       "6   897  376.740   3964.740  Flagship store       274987  08-10-1983      M   \n",
       "7  1122  117.810   1239.810        TeleShop       271817  24-12-1989      M   \n",
       "8  1181  372.015   3915.015          e-Shop       268755  15-07-1984      F   \n",
       "9  1047  549.675   5784.675             MBR       268129  07-08-1982      F   \n",
       "\n",
       "   city_code  prod_cat  prod_sub_cat_code prod_subcat  \n",
       "0        5.0  Clothing                  1       Women  \n",
       "1        5.0  Clothing                  1       Women  \n",
       "2        3.0  Clothing                  1       Women  \n",
       "3        1.0  Clothing                  1       Women  \n",
       "4        1.0  Clothing                  1       Women  \n",
       "5       10.0  Clothing                  1       Women  \n",
       "6        2.0  Clothing                  1       Women  \n",
       "7        8.0  Clothing                  1       Women  \n",
       "8        8.0  Clothing                  1       Women  \n",
       "9        9.0  Clothing                  1       Women  "
      ]
     },
     "execution_count": 7,
     "metadata": {},
     "output_type": "execute_result"
    }
   ],
   "source": [
    "#b\n",
    "\n",
    "#Top 10 \n",
    "Customer_Final.head(10)"
   ]
  },
  {
   "cell_type": "code",
   "execution_count": 8,
   "id": "ce430bbb",
   "metadata": {},
   "outputs": [
    {
     "data": {
      "text/html": [
       "<div>\n",
       "<style scoped>\n",
       "    .dataframe tbody tr th:only-of-type {\n",
       "        vertical-align: middle;\n",
       "    }\n",
       "\n",
       "    .dataframe tbody tr th {\n",
       "        vertical-align: top;\n",
       "    }\n",
       "\n",
       "    .dataframe thead th {\n",
       "        text-align: right;\n",
       "    }\n",
       "</style>\n",
       "<table border=\"1\" class=\"dataframe\">\n",
       "  <thead>\n",
       "    <tr style=\"text-align: right;\">\n",
       "      <th></th>\n",
       "      <th>transaction_id</th>\n",
       "      <th>cust_id</th>\n",
       "      <th>tran_date</th>\n",
       "      <th>prod_subcat_code</th>\n",
       "      <th>prod_cat_code</th>\n",
       "      <th>Qty</th>\n",
       "      <th>Rate</th>\n",
       "      <th>Tax</th>\n",
       "      <th>total_amt</th>\n",
       "      <th>Store_type</th>\n",
       "      <th>customer_Id</th>\n",
       "      <th>DOB</th>\n",
       "      <th>Gender</th>\n",
       "      <th>city_code</th>\n",
       "      <th>prod_cat</th>\n",
       "      <th>prod_sub_cat_code</th>\n",
       "      <th>prod_subcat</th>\n",
       "    </tr>\n",
       "  </thead>\n",
       "  <tbody>\n",
       "    <tr>\n",
       "      <th>23043</th>\n",
       "      <td>3387244829</td>\n",
       "      <td>269114</td>\n",
       "      <td>15-07-2011</td>\n",
       "      <td>4</td>\n",
       "      <td>4</td>\n",
       "      <td>1</td>\n",
       "      <td>388</td>\n",
       "      <td>40.740</td>\n",
       "      <td>428.740</td>\n",
       "      <td>e-Shop</td>\n",
       "      <td>269114</td>\n",
       "      <td>22-01-1989</td>\n",
       "      <td>F</td>\n",
       "      <td>5.0</td>\n",
       "      <td>Bags</td>\n",
       "      <td>4</td>\n",
       "      <td>Women</td>\n",
       "    </tr>\n",
       "    <tr>\n",
       "      <th>23044</th>\n",
       "      <td>76906459516</td>\n",
       "      <td>267940</td>\n",
       "      <td>15-06-2011</td>\n",
       "      <td>4</td>\n",
       "      <td>4</td>\n",
       "      <td>2</td>\n",
       "      <td>1263</td>\n",
       "      <td>265.230</td>\n",
       "      <td>2791.230</td>\n",
       "      <td>Flagship store</td>\n",
       "      <td>267940</td>\n",
       "      <td>09-06-1979</td>\n",
       "      <td>M</td>\n",
       "      <td>9.0</td>\n",
       "      <td>Bags</td>\n",
       "      <td>4</td>\n",
       "      <td>Women</td>\n",
       "    </tr>\n",
       "    <tr>\n",
       "      <th>23045</th>\n",
       "      <td>73549617163</td>\n",
       "      <td>271334</td>\n",
       "      <td>5/7/2011</td>\n",
       "      <td>4</td>\n",
       "      <td>4</td>\n",
       "      <td>5</td>\n",
       "      <td>263</td>\n",
       "      <td>138.075</td>\n",
       "      <td>1453.075</td>\n",
       "      <td>e-Shop</td>\n",
       "      <td>271334</td>\n",
       "      <td>08-12-1983</td>\n",
       "      <td>F</td>\n",
       "      <td>10.0</td>\n",
       "      <td>Bags</td>\n",
       "      <td>4</td>\n",
       "      <td>Women</td>\n",
       "    </tr>\n",
       "    <tr>\n",
       "      <th>23046</th>\n",
       "      <td>75339646315</td>\n",
       "      <td>274827</td>\n",
       "      <td>2/5/2011</td>\n",
       "      <td>4</td>\n",
       "      <td>4</td>\n",
       "      <td>4</td>\n",
       "      <td>1381</td>\n",
       "      <td>580.020</td>\n",
       "      <td>6104.020</td>\n",
       "      <td>e-Shop</td>\n",
       "      <td>274827</td>\n",
       "      <td>27-12-1988</td>\n",
       "      <td>F</td>\n",
       "      <td>8.0</td>\n",
       "      <td>Bags</td>\n",
       "      <td>4</td>\n",
       "      <td>Women</td>\n",
       "    </tr>\n",
       "    <tr>\n",
       "      <th>23047</th>\n",
       "      <td>6650926717</td>\n",
       "      <td>268110</td>\n",
       "      <td>5/4/2011</td>\n",
       "      <td>4</td>\n",
       "      <td>4</td>\n",
       "      <td>4</td>\n",
       "      <td>1036</td>\n",
       "      <td>435.120</td>\n",
       "      <td>4579.120</td>\n",
       "      <td>MBR</td>\n",
       "      <td>268110</td>\n",
       "      <td>06-03-1976</td>\n",
       "      <td>M</td>\n",
       "      <td>2.0</td>\n",
       "      <td>Bags</td>\n",
       "      <td>4</td>\n",
       "      <td>Women</td>\n",
       "    </tr>\n",
       "    <tr>\n",
       "      <th>23048</th>\n",
       "      <td>7173864364</td>\n",
       "      <td>271157</td>\n",
       "      <td>9/4/2011</td>\n",
       "      <td>4</td>\n",
       "      <td>4</td>\n",
       "      <td>5</td>\n",
       "      <td>788</td>\n",
       "      <td>413.700</td>\n",
       "      <td>4353.700</td>\n",
       "      <td>Flagship store</td>\n",
       "      <td>271157</td>\n",
       "      <td>15-10-1973</td>\n",
       "      <td>F</td>\n",
       "      <td>6.0</td>\n",
       "      <td>Bags</td>\n",
       "      <td>4</td>\n",
       "      <td>Women</td>\n",
       "    </tr>\n",
       "    <tr>\n",
       "      <th>23049</th>\n",
       "      <td>5618131425</td>\n",
       "      <td>272010</td>\n",
       "      <td>3/3/2011</td>\n",
       "      <td>4</td>\n",
       "      <td>4</td>\n",
       "      <td>2</td>\n",
       "      <td>1150</td>\n",
       "      <td>241.500</td>\n",
       "      <td>2541.500</td>\n",
       "      <td>MBR</td>\n",
       "      <td>272010</td>\n",
       "      <td>22-12-1972</td>\n",
       "      <td>F</td>\n",
       "      <td>5.0</td>\n",
       "      <td>Bags</td>\n",
       "      <td>4</td>\n",
       "      <td>Women</td>\n",
       "    </tr>\n",
       "    <tr>\n",
       "      <th>23050</th>\n",
       "      <td>18727956164</td>\n",
       "      <td>267161</td>\n",
       "      <td>23-02-2011</td>\n",
       "      <td>4</td>\n",
       "      <td>4</td>\n",
       "      <td>5</td>\n",
       "      <td>668</td>\n",
       "      <td>350.700</td>\n",
       "      <td>3690.700</td>\n",
       "      <td>e-Shop</td>\n",
       "      <td>267161</td>\n",
       "      <td>08-05-1981</td>\n",
       "      <td>M</td>\n",
       "      <td>9.0</td>\n",
       "      <td>Bags</td>\n",
       "      <td>4</td>\n",
       "      <td>Women</td>\n",
       "    </tr>\n",
       "    <tr>\n",
       "      <th>23051</th>\n",
       "      <td>60416814232</td>\n",
       "      <td>273281</td>\n",
       "      <td>18-02-2011</td>\n",
       "      <td>4</td>\n",
       "      <td>4</td>\n",
       "      <td>4</td>\n",
       "      <td>202</td>\n",
       "      <td>84.840</td>\n",
       "      <td>892.840</td>\n",
       "      <td>Flagship store</td>\n",
       "      <td>273281</td>\n",
       "      <td>14-12-1988</td>\n",
       "      <td>F</td>\n",
       "      <td>9.0</td>\n",
       "      <td>Bags</td>\n",
       "      <td>4</td>\n",
       "      <td>Women</td>\n",
       "    </tr>\n",
       "    <tr>\n",
       "      <th>23052</th>\n",
       "      <td>83245680995</td>\n",
       "      <td>273723</td>\n",
       "      <td>26-01-2011</td>\n",
       "      <td>4</td>\n",
       "      <td>4</td>\n",
       "      <td>4</td>\n",
       "      <td>1477</td>\n",
       "      <td>620.340</td>\n",
       "      <td>6528.340</td>\n",
       "      <td>e-Shop</td>\n",
       "      <td>273723</td>\n",
       "      <td>21-01-1984</td>\n",
       "      <td>F</td>\n",
       "      <td>4.0</td>\n",
       "      <td>Bags</td>\n",
       "      <td>4</td>\n",
       "      <td>Women</td>\n",
       "    </tr>\n",
       "  </tbody>\n",
       "</table>\n",
       "</div>"
      ],
      "text/plain": [
       "       transaction_id  cust_id   tran_date  prod_subcat_code  prod_cat_code  \\\n",
       "23043      3387244829   269114  15-07-2011                 4              4   \n",
       "23044     76906459516   267940  15-06-2011                 4              4   \n",
       "23045     73549617163   271334    5/7/2011                 4              4   \n",
       "23046     75339646315   274827    2/5/2011                 4              4   \n",
       "23047      6650926717   268110    5/4/2011                 4              4   \n",
       "23048      7173864364   271157    9/4/2011                 4              4   \n",
       "23049      5618131425   272010    3/3/2011                 4              4   \n",
       "23050     18727956164   267161  23-02-2011                 4              4   \n",
       "23051     60416814232   273281  18-02-2011                 4              4   \n",
       "23052     83245680995   273723  26-01-2011                 4              4   \n",
       "\n",
       "       Qty  Rate      Tax  total_amt      Store_type  customer_Id         DOB  \\\n",
       "23043    1   388   40.740    428.740          e-Shop       269114  22-01-1989   \n",
       "23044    2  1263  265.230   2791.230  Flagship store       267940  09-06-1979   \n",
       "23045    5   263  138.075   1453.075          e-Shop       271334  08-12-1983   \n",
       "23046    4  1381  580.020   6104.020          e-Shop       274827  27-12-1988   \n",
       "23047    4  1036  435.120   4579.120             MBR       268110  06-03-1976   \n",
       "23048    5   788  413.700   4353.700  Flagship store       271157  15-10-1973   \n",
       "23049    2  1150  241.500   2541.500             MBR       272010  22-12-1972   \n",
       "23050    5   668  350.700   3690.700          e-Shop       267161  08-05-1981   \n",
       "23051    4   202   84.840    892.840  Flagship store       273281  14-12-1988   \n",
       "23052    4  1477  620.340   6528.340          e-Shop       273723  21-01-1984   \n",
       "\n",
       "      Gender  city_code prod_cat  prod_sub_cat_code prod_subcat  \n",
       "23043      F        5.0     Bags                  4       Women  \n",
       "23044      M        9.0     Bags                  4       Women  \n",
       "23045      F       10.0     Bags                  4       Women  \n",
       "23046      F        8.0     Bags                  4       Women  \n",
       "23047      M        2.0     Bags                  4       Women  \n",
       "23048      F        6.0     Bags                  4       Women  \n",
       "23049      F        5.0     Bags                  4       Women  \n",
       "23050      M        9.0     Bags                  4       Women  \n",
       "23051      F        9.0     Bags                  4       Women  \n",
       "23052      F        4.0     Bags                  4       Women  "
      ]
     },
     "execution_count": 8,
     "metadata": {},
     "output_type": "execute_result"
    }
   ],
   "source": [
    "#Bottom 10\n",
    "Customer_Final.tail(10)"
   ]
  },
  {
   "cell_type": "code",
   "execution_count": 9,
   "id": "57e68a64",
   "metadata": {},
   "outputs": [
    {
     "data": {
      "text/html": [
       "<div>\n",
       "<style scoped>\n",
       "    .dataframe tbody tr th:only-of-type {\n",
       "        vertical-align: middle;\n",
       "    }\n",
       "\n",
       "    .dataframe tbody tr th {\n",
       "        vertical-align: top;\n",
       "    }\n",
       "\n",
       "    .dataframe thead th {\n",
       "        text-align: right;\n",
       "    }\n",
       "</style>\n",
       "<table border=\"1\" class=\"dataframe\">\n",
       "  <thead>\n",
       "    <tr style=\"text-align: right;\">\n",
       "      <th></th>\n",
       "      <th>transaction_id</th>\n",
       "      <th>cust_id</th>\n",
       "      <th>prod_subcat_code</th>\n",
       "      <th>prod_cat_code</th>\n",
       "      <th>Qty</th>\n",
       "      <th>Rate</th>\n",
       "      <th>Tax</th>\n",
       "      <th>total_amt</th>\n",
       "      <th>customer_Id</th>\n",
       "      <th>city_code</th>\n",
       "      <th>prod_sub_cat_code</th>\n",
       "    </tr>\n",
       "  </thead>\n",
       "  <tbody>\n",
       "    <tr>\n",
       "      <th>min</th>\n",
       "      <td>3.268991e+06</td>\n",
       "      <td>266783.0</td>\n",
       "      <td>1.0</td>\n",
       "      <td>1.0</td>\n",
       "      <td>-5.0</td>\n",
       "      <td>-1499.0</td>\n",
       "      <td>7.350</td>\n",
       "      <td>-8270.925</td>\n",
       "      <td>266783.0</td>\n",
       "      <td>1.0</td>\n",
       "      <td>1.0</td>\n",
       "    </tr>\n",
       "    <tr>\n",
       "      <th>25%</th>\n",
       "      <td>2.493864e+10</td>\n",
       "      <td>268935.0</td>\n",
       "      <td>3.0</td>\n",
       "      <td>2.0</td>\n",
       "      <td>1.0</td>\n",
       "      <td>312.0</td>\n",
       "      <td>98.280</td>\n",
       "      <td>762.450</td>\n",
       "      <td>268935.0</td>\n",
       "      <td>3.0</td>\n",
       "      <td>3.0</td>\n",
       "    </tr>\n",
       "    <tr>\n",
       "      <th>50%</th>\n",
       "      <td>5.009313e+10</td>\n",
       "      <td>270980.0</td>\n",
       "      <td>5.0</td>\n",
       "      <td>4.0</td>\n",
       "      <td>3.0</td>\n",
       "      <td>710.0</td>\n",
       "      <td>199.080</td>\n",
       "      <td>1754.740</td>\n",
       "      <td>270980.0</td>\n",
       "      <td>5.0</td>\n",
       "      <td>5.0</td>\n",
       "    </tr>\n",
       "    <tr>\n",
       "      <th>75%</th>\n",
       "      <td>7.533000e+10</td>\n",
       "      <td>273114.0</td>\n",
       "      <td>10.0</td>\n",
       "      <td>5.0</td>\n",
       "      <td>4.0</td>\n",
       "      <td>1109.0</td>\n",
       "      <td>365.715</td>\n",
       "      <td>3569.150</td>\n",
       "      <td>273114.0</td>\n",
       "      <td>8.0</td>\n",
       "      <td>10.0</td>\n",
       "    </tr>\n",
       "    <tr>\n",
       "      <th>max</th>\n",
       "      <td>9.998755e+10</td>\n",
       "      <td>275265.0</td>\n",
       "      <td>12.0</td>\n",
       "      <td>6.0</td>\n",
       "      <td>5.0</td>\n",
       "      <td>1500.0</td>\n",
       "      <td>787.500</td>\n",
       "      <td>8287.500</td>\n",
       "      <td>275265.0</td>\n",
       "      <td>10.0</td>\n",
       "      <td>12.0</td>\n",
       "    </tr>\n",
       "  </tbody>\n",
       "</table>\n",
       "</div>"
      ],
      "text/plain": [
       "     transaction_id   cust_id  prod_subcat_code  prod_cat_code  Qty    Rate  \\\n",
       "min    3.268991e+06  266783.0               1.0            1.0 -5.0 -1499.0   \n",
       "25%    2.493864e+10  268935.0               3.0            2.0  1.0   312.0   \n",
       "50%    5.009313e+10  270980.0               5.0            4.0  3.0   710.0   \n",
       "75%    7.533000e+10  273114.0              10.0            5.0  4.0  1109.0   \n",
       "max    9.998755e+10  275265.0              12.0            6.0  5.0  1500.0   \n",
       "\n",
       "         Tax  total_amt  customer_Id  city_code  prod_sub_cat_code  \n",
       "min    7.350  -8270.925     266783.0        1.0                1.0  \n",
       "25%   98.280    762.450     268935.0        3.0                3.0  \n",
       "50%  199.080   1754.740     270980.0        5.0                5.0  \n",
       "75%  365.715   3569.150     273114.0        8.0               10.0  \n",
       "max  787.500   8287.500     275265.0       10.0               12.0  "
      ]
     },
     "execution_count": 9,
     "metadata": {},
     "output_type": "execute_result"
    }
   ],
   "source": [
    "#c\n",
    "\n",
    "Customer_Final.describe().iloc[3:8]"
   ]
  },
  {
   "cell_type": "markdown",
   "id": "a2bd7319",
   "metadata": {},
   "source": [
    "### d. Frequency tables for all the categorical variables"
   ]
  },
  {
   "cell_type": "code",
   "execution_count": 10,
   "id": "40327dfc",
   "metadata": {},
   "outputs": [
    {
     "name": "stdout",
     "output_type": "stream",
     "text": [
      "<class 'pandas.core.frame.DataFrame'>\n",
      "Int64Index: 23053 entries, 0 to 23052\n",
      "Data columns (total 17 columns):\n",
      " #   Column             Non-Null Count  Dtype  \n",
      "---  ------             --------------  -----  \n",
      " 0   transaction_id     23053 non-null  int64  \n",
      " 1   cust_id            23053 non-null  int64  \n",
      " 2   tran_date          23053 non-null  object \n",
      " 3   prod_subcat_code   23053 non-null  int64  \n",
      " 4   prod_cat_code      23053 non-null  int64  \n",
      " 5   Qty                23053 non-null  int64  \n",
      " 6   Rate               23053 non-null  int64  \n",
      " 7   Tax                23053 non-null  float64\n",
      " 8   total_amt          23053 non-null  float64\n",
      " 9   Store_type         23053 non-null  object \n",
      " 10  customer_Id        23053 non-null  int64  \n",
      " 11  DOB                23053 non-null  object \n",
      " 12  Gender             23044 non-null  object \n",
      " 13  city_code          23045 non-null  float64\n",
      " 14  prod_cat           23053 non-null  object \n",
      " 15  prod_sub_cat_code  23053 non-null  int64  \n",
      " 16  prod_subcat        23053 non-null  object \n",
      "dtypes: float64(3), int64(8), object(6)\n",
      "memory usage: 3.2+ MB\n"
     ]
    }
   ],
   "source": [
    "Customer_Final.info()"
   ]
  },
  {
   "cell_type": "code",
   "execution_count": 11,
   "id": "d5ac941b",
   "metadata": {},
   "outputs": [],
   "source": [
    "category_column = Customer_Final[[\"Gender\",\"Store_type\",\"prod_cat\",\"prod_subcat\"]]"
   ]
  },
  {
   "cell_type": "code",
   "execution_count": 12,
   "id": "3e704376",
   "metadata": {},
   "outputs": [
    {
     "name": "stdout",
     "output_type": "stream",
     "text": [
      "M    11811\n",
      "F    11233\n",
      "Name: Gender, dtype: int64\n",
      "\n",
      "\n",
      "e-Shop            9311\n",
      "MBR               4661\n",
      "Flagship store    4577\n",
      "TeleShop          4504\n",
      "Name: Store_type, dtype: int64\n",
      "\n",
      "\n",
      "prod_cat          prod_subcat        \n",
      "Home and kitchen  Tools                  1062\n",
      "Footwear          Women                  1048\n",
      "Books             Fiction                1043\n",
      "Home and kitchen  Kitchen                1037\n",
      "Books             Children               1035\n",
      "Electronics       Mobiles                1031\n",
      "Books             Comics                 1031\n",
      "Home and kitchen  Bath                   1023\n",
      "Footwear          Kids                   1009\n",
      "Home and kitchen  Furnishing             1007\n",
      "Clothing          Women                  1005\n",
      "Books             Non-Fiction            1004\n",
      "Bags              Mens                   1003\n",
      "                  Women                   995\n",
      "Books             DIY                     989\n",
      "Clothing          Kids                    988\n",
      "Electronics       Cameras                 985\n",
      "                  Personal Appliances     972\n",
      "Clothing          Mens                    967\n",
      "Books             Academic                967\n",
      "Electronics       Computers               958\n",
      "                  Audio and video         952\n",
      "Footwear          Mens                    942\n",
      "dtype: int64\n"
     ]
    }
   ],
   "source": [
    "print(category_column['Gender'].value_counts(),end='\\n\\n\\n')\n",
    "print(category_column['Store_type'].value_counts(),end='\\n\\n\\n')\n",
    "print(category_column[['prod_cat','prod_subcat']].value_counts())"
   ]
  },
  {
   "cell_type": "markdown",
   "id": "89624c8e",
   "metadata": {},
   "source": [
    "### 3. Generate histograms for all continuous variables and frequency bars for categorical variables."
   ]
  },
  {
   "cell_type": "code",
   "execution_count": 13,
   "id": "977ad783",
   "metadata": {},
   "outputs": [
    {
     "data": {
      "image/png": "[encoded data removed]",
      "text/plain": [
       "<Figure size 1200x1200 with 2 Axes>"
      ]
     },
     "metadata": {},
     "output_type": "display_data"
    }
   ],
   "source": [
    "plt.figure(figsize=(12,12))\n",
    "sns.heatmap(Customer_Final.corr(),annot=True)\n",
    "plt.show()"
   ]
  },
  {
   "cell_type": "code",
   "execution_count": 14,
   "id": "b2c18328",
   "metadata": {},
   "outputs": [],
   "source": [
    "contineous_column= Customer_Final[[\"Qty\",\"Rate\",\"Tax\",\"total_amt\"]]\n",
    "category_column = Customer_Final[[\"Gender\",\"Store_type\",\"prod_cat\",\"prod_subcat\"]]"
   ]
  },
  {
   "cell_type": "code",
   "execution_count": 15,
   "id": "b6a32e1a",
   "metadata": {},
   "outputs": [
    {
     "data": {
      "image/png": "[encoded data removed]",
      "text/plain": [
       "<Figure size 640x480 with 1 Axes>"
      ]
     },
     "metadata": {},
     "output_type": "display_data"
    },
    {
     "data": {
      "image/png": "[encoded data removed]",
      "text/plain": [
       "<Figure size 640x480 with 1 Axes>"
      ]
     },
     "metadata": {},
     "output_type": "display_data"
    },
    {
     "data": {
      "image/png": "[encoded data removed]",
      "text/plain": [
       "<Figure size 640x480 with 1 Axes>"
      ]
     },
     "metadata": {},
     "output_type": "display_data"
    },
    {
     "data": {
      "image/png": "[encoded data removed]",
      "text/plain": [
       "<Figure size 640x480 with 1 Axes>"
      ]
     },
     "metadata": {},
     "output_type": "display_data"
    }
   ],
   "source": [
    "for i in contineous_column.columns:\n",
    "    contineous_column[i].plot(kind='hist', title = i)\n",
    "    \n",
    "    plt.show()"
   ]
  },
  {
   "cell_type": "code",
   "execution_count": 17,
   "id": "8e19aec4",
   "metadata": {},
   "outputs": [
    {
     "data": {
      "image/png": "[encoded data removed]",
      "text/plain": [
       "<Figure size 640x480 with 1 Axes>"
      ]
     },
     "metadata": {},
     "output_type": "display_data"
    },
    {
     "data": {
      "image/png": "[encoded data removed]",
      "text/plain": [
       "<Figure size 640x480 with 1 Axes>"
      ]
     },
     "metadata": {},
     "output_type": "display_data"
    },
    {
     "data": {
      "image/png": "[encoded data removed]",
      "text/plain": [
       "<Figure size 640x480 with 1 Axes>"
      ]
     },
     "metadata": {},
     "output_type": "display_data"
    },
    {
     "data": {
      "image/png": "[encoded data removed]",
      "text/plain": [
       "<Figure size 640x480 with 1 Axes>"
      ]
     },
     "metadata": {},
     "output_type": "display_data"
    }
   ],
   "source": [
    "for i in category_column.columns:\n",
    "    category_column[i].value_counts().plot(kind = 'bar', title = i)\n",
    "    plt.show()"
   ]
  },
  {
   "cell_type": "markdown",
   "id": "a4784170",
   "metadata": {},
   "source": [
    "<h3>4. Calculate the following information using the merged dataset : <br>\n",
    " a. Time period of the available transaction data <br>\n",
    " b. Count of transactions where the total amount of transaction was negative</h3>"
   ]
  },
  {
   "cell_type": "code",
   "execution_count": 18,
   "id": "7fb97c8d",
   "metadata": {},
   "outputs": [],
   "source": [
    "Customer_Final.tran_date = pd.to_datetime(Customer_Final.tran_date, infer_datetime_format=True)"
   ]
  },
  {
   "cell_type": "code",
   "execution_count": 19,
   "id": "3358fcc5",
   "metadata": {},
   "outputs": [],
   "source": [
    "#a\n",
    "\n",
    "Time_Period = max(Customer_Final.tran_date) - min(Customer_Final.tran_date)"
   ]
  },
  {
   "cell_type": "code",
   "execution_count": 20,
   "id": "764dd5d7",
   "metadata": {},
   "outputs": [
    {
     "name": "stdout",
     "output_type": "stream",
     "text": [
      "Time period of data 1430 days\n"
     ]
    }
   ],
   "source": [
    "print(f\"Time period of data {Time_Period.days} days\")"
   ]
  },
  {
   "cell_type": "code",
   "execution_count": 21,
   "id": "4c6fb08f",
   "metadata": {},
   "outputs": [
    {
     "name": "stdout",
     "output_type": "stream",
     "text": [
      "Count of transactions where the total amount of transaction was negative : 2177\n"
     ]
    }
   ],
   "source": [
    "#b\n",
    "\n",
    "count = len(Customer_Final.total_amt[Customer_Final.total_amt<0])\n",
    "print('Count of transactions where the total amount of transaction was negative :',count)"
   ]
  },
  {
   "cell_type": "markdown",
   "id": "9c6d7647",
   "metadata": {},
   "source": [
    "### 5. Analyze which product categories are more popular among females vs male customers."
   ]
  },
  {
   "cell_type": "code",
   "execution_count": 22,
   "id": "c6da86f5",
   "metadata": {},
   "outputs": [],
   "source": [
    "df = Customer_Final.drop_duplicates(subset=['transaction_id'])\n",
    "pvt = pd.pivot_table(data=df,\n",
    "                    columns='Gender',\n",
    "                    index='prod_cat',\n",
    "                     values = 'transaction_id',\n",
    "                     aggfunc='count'\n",
    "                    )"
   ]
  },
  {
   "cell_type": "code",
   "execution_count": 23,
   "id": "45f72277",
   "metadata": {},
   "outputs": [
    {
     "data": {
      "text/html": [
       "<div>\n",
       "<style scoped>\n",
       "    .dataframe tbody tr th:only-of-type {\n",
       "        vertical-align: middle;\n",
       "    }\n",
       "\n",
       "    .dataframe tbody tr th {\n",
       "        vertical-align: top;\n",
       "    }\n",
       "\n",
       "    .dataframe thead th {\n",
       "        text-align: right;\n",
       "    }\n",
       "</style>\n",
       "<table border=\"1\" class=\"dataframe\">\n",
       "  <thead>\n",
       "    <tr style=\"text-align: right;\">\n",
       "      <th>Gender</th>\n",
       "      <th>F</th>\n",
       "      <th>M</th>\n",
       "    </tr>\n",
       "    <tr>\n",
       "      <th>prod_cat</th>\n",
       "      <th></th>\n",
       "      <th></th>\n",
       "    </tr>\n",
       "  </thead>\n",
       "  <tbody>\n",
       "    <tr>\n",
       "      <th>Bags</th>\n",
       "      <td>890</td>\n",
       "      <td>899</td>\n",
       "    </tr>\n",
       "    <tr>\n",
       "      <th>Books</th>\n",
       "      <td>2657</td>\n",
       "      <td>2825</td>\n",
       "    </tr>\n",
       "    <tr>\n",
       "      <th>Clothing</th>\n",
       "      <td>1286</td>\n",
       "      <td>1388</td>\n",
       "    </tr>\n",
       "    <tr>\n",
       "      <th>Electronics</th>\n",
       "      <td>2135</td>\n",
       "      <td>2351</td>\n",
       "    </tr>\n",
       "    <tr>\n",
       "      <th>Footwear</th>\n",
       "      <td>1380</td>\n",
       "      <td>1327</td>\n",
       "    </tr>\n",
       "    <tr>\n",
       "      <th>Home and kitchen</th>\n",
       "      <td>1810</td>\n",
       "      <td>1922</td>\n",
       "    </tr>\n",
       "  </tbody>\n",
       "</table>\n",
       "</div>"
      ],
      "text/plain": [
       "Gender               F     M\n",
       "prod_cat                    \n",
       "Bags               890   899\n",
       "Books             2657  2825\n",
       "Clothing          1286  1388\n",
       "Electronics       2135  2351\n",
       "Footwear          1380  1327\n",
       "Home and kitchen  1810  1922"
      ]
     },
     "execution_count": 23,
     "metadata": {},
     "output_type": "execute_result"
    }
   ],
   "source": [
    "pvt"
   ]
  },
  {
   "cell_type": "markdown",
   "id": "b5cd12aa",
   "metadata": {},
   "source": [
    "### 6. Which City code has the maximum customers and what was the percentage of customers from that city?"
   ]
  },
  {
   "cell_type": "code",
   "execution_count": 24,
   "id": "a0de6080",
   "metadata": {},
   "outputs": [],
   "source": [
    "max_cust = pd.pivot_table(data= customer,\n",
    "                         index = 'city_code',\n",
    "                         values = 'customer_Id',\n",
    "                         aggfunc='count')"
   ]
  },
  {
   "cell_type": "code",
   "execution_count": 25,
   "id": "4ebac70b",
   "metadata": {},
   "outputs": [],
   "source": [
    "max_cust = max_cust.sort_values(by = 'customer_Id',ascending=False).iloc[0:1,:]"
   ]
  },
  {
   "cell_type": "code",
   "execution_count": 26,
   "id": "4e1e6e1a",
   "metadata": {},
   "outputs": [
    {
     "name": "stdout",
     "output_type": "stream",
     "text": [
      "The City with maximum customer is 3.0, and the percentage of customer from that city is 10.53656808925093%\n"
     ]
    }
   ],
   "source": [
    "best_city_code = max_cust.index[0]\n",
    "total_cust = max_cust.iloc[0,0]\n",
    "percent = (total_cust / len(customer))*100\n",
    "print(f\"The City with maximum customer is {best_city_code}, and the percentage of customer from that city is {percent}%\")"
   ]
  },
  {
   "cell_type": "markdown",
   "id": "39c41d6d",
   "metadata": {},
   "source": [
    "### 7. Which store type sells the maximum products by value and by quantity?"
   ]
  },
  {
   "cell_type": "code",
   "execution_count": 27,
   "id": "7bf6319f",
   "metadata": {},
   "outputs": [],
   "source": [
    "str_typ = Customer_Final.groupby(['Store_type']).agg({'total_amt':'sum','Qty':'sum'}).reset_index()"
   ]
  },
  {
   "cell_type": "code",
   "execution_count": 28,
   "id": "189db6f9",
   "metadata": {},
   "outputs": [],
   "source": [
    "str_typ = str_typ.sort_values(by = ['total_amt','Qty'],ascending=False)"
   ]
  },
  {
   "cell_type": "code",
   "execution_count": 29,
   "id": "47cf13e9",
   "metadata": {},
   "outputs": [
    {
     "name": "stdout",
     "output_type": "stream",
     "text": [
      "The store type sells the maximum products by value and by quantity is e-Shop\n"
     ]
    }
   ],
   "source": [
    "print(f\"The store type sells the maximum products by value and by quantity is {str_typ.iloc[0,0]}\")"
   ]
  },
  {
   "cell_type": "markdown",
   "id": "063b70fd",
   "metadata": {},
   "source": [
    "### 8. What was the total amount earned from the \"Electronics\" and \"Clothing\" categories from Flagship Stores?\n"
   ]
  },
  {
   "cell_type": "code",
   "execution_count": 30,
   "id": "bfd80a4a",
   "metadata": {},
   "outputs": [],
   "source": [
    "tot_amt = Customer_Final[(Customer_Final.Store_type == 'Flagship store')&(Customer_Final.prod_cat.isin(['Electronics','Books']))]"
   ]
  },
  {
   "cell_type": "code",
   "execution_count": 31,
   "id": "f8706a5a",
   "metadata": {},
   "outputs": [],
   "source": [
    "tot_amt = tot_amt['total_amt'].sum()"
   ]
  },
  {
   "cell_type": "code",
   "execution_count": 32,
   "id": "50393675",
   "metadata": {},
   "outputs": [
    {
     "name": "stdout",
     "output_type": "stream",
     "text": [
      "Total amount earned from the Electronics and Clothing categories from Flagship Stores is 4703341.890000001\n"
     ]
    }
   ],
   "source": [
    "print(f\"Total amount earned from the Electronics and Clothing categories from Flagship Stores is {tot_amt}\")"
   ]
  },
  {
   "cell_type": "markdown",
   "id": "bf109707",
   "metadata": {},
   "source": [
    "### 9. What was the total amount earned from \"Male\" customers under the \"Electronics\" category?"
   ]
  },
  {
   "cell_type": "code",
   "execution_count": 33,
   "id": "c4a15529",
   "metadata": {},
   "outputs": [],
   "source": [
    "tot_amt = Customer_Final[(Customer_Final.prod_cat == 'Electronics')&(Customer_Final.Gender == 'M')]"
   ]
  },
  {
   "cell_type": "code",
   "execution_count": 34,
   "id": "5ec1b13d",
   "metadata": {},
   "outputs": [],
   "source": [
    "tot_amt = tot_amt.total_amt.sum()"
   ]
  },
  {
   "cell_type": "code",
   "execution_count": 35,
   "id": "9d9afb73",
   "metadata": {},
   "outputs": [
    {
     "name": "stdout",
     "output_type": "stream",
     "text": [
      "Total amount earned from the Male customers under the Electronics category is 5703109.425000001\n"
     ]
    }
   ],
   "source": [
    "print(f\"Total amount earned from the Male customers under the Electronics category is {tot_amt}\")"
   ]
  },
  {
   "cell_type": "markdown",
   "id": "94be42a5",
   "metadata": {},
   "source": [
    "### 10. How many customers have more than 10 unique transactions, after removing all transactions which have any negative amounts?"
   ]
  },
  {
   "cell_type": "code",
   "execution_count": 36,
   "id": "9537afe6",
   "metadata": {},
   "outputs": [],
   "source": [
    "posi_tran = Customer_Final[Customer_Final.total_amt > 0]"
   ]
  },
  {
   "cell_type": "code",
   "execution_count": 37,
   "id": "0eec0b40",
   "metadata": {},
   "outputs": [],
   "source": [
    "unique_tran = posi_tran.groupby('customer_Id').agg({'total_amt':'count'}).sort_values('total_amt',ascending=False)"
   ]
  },
  {
   "cell_type": "code",
   "execution_count": 38,
   "id": "0de63ae8",
   "metadata": {},
   "outputs": [],
   "source": [
    "unique_tran = unique_tran[unique_tran.total_amt > 10]"
   ]
  },
  {
   "cell_type": "code",
   "execution_count": 39,
   "id": "85485f45",
   "metadata": {},
   "outputs": [
    {
     "data": {
      "text/html": [
       "<div>\n",
       "<style scoped>\n",
       "    .dataframe tbody tr th:only-of-type {\n",
       "        vertical-align: middle;\n",
       "    }\n",
       "\n",
       "    .dataframe tbody tr th {\n",
       "        vertical-align: top;\n",
       "    }\n",
       "\n",
       "    .dataframe thead th {\n",
       "        text-align: right;\n",
       "    }\n",
       "</style>\n",
       "<table border=\"1\" class=\"dataframe\">\n",
       "  <thead>\n",
       "    <tr style=\"text-align: right;\">\n",
       "      <th></th>\n",
       "      <th>total_amt</th>\n",
       "    </tr>\n",
       "    <tr>\n",
       "      <th>customer_Id</th>\n",
       "      <th></th>\n",
       "    </tr>\n",
       "  </thead>\n",
       "  <tbody>\n",
       "    <tr>\n",
       "      <th>272741</th>\n",
       "      <td>11</td>\n",
       "    </tr>\n",
       "    <tr>\n",
       "      <th>273014</th>\n",
       "      <td>11</td>\n",
       "    </tr>\n",
       "    <tr>\n",
       "      <th>266794</th>\n",
       "      <td>11</td>\n",
       "    </tr>\n",
       "    <tr>\n",
       "      <th>274227</th>\n",
       "      <td>11</td>\n",
       "    </tr>\n",
       "    <tr>\n",
       "      <th>270803</th>\n",
       "      <td>11</td>\n",
       "    </tr>\n",
       "    <tr>\n",
       "      <th>270535</th>\n",
       "      <td>11</td>\n",
       "    </tr>\n",
       "  </tbody>\n",
       "</table>\n",
       "</div>"
      ],
      "text/plain": [
       "             total_amt\n",
       "customer_Id           \n",
       "272741              11\n",
       "273014              11\n",
       "266794              11\n",
       "274227              11\n",
       "270803              11\n",
       "270535              11"
      ]
     },
     "execution_count": 39,
     "metadata": {},
     "output_type": "execute_result"
    }
   ],
   "source": [
    "unique_tran"
   ]
  },
  {
   "cell_type": "markdown",
   "id": "0ce5dfe6",
   "metadata": {},
   "source": [
    "<h3>11. For all customers aged between 25 - 35, find out:<br>\n",
    " a. What was the total amount spent for “Electronics” and “Books” product categories?<br>\n",
    " b. What was the total amount spent by these customers between 1st Jan, 2014 to 1st Mar, 2014?"
   ]
  },
  {
   "cell_type": "code",
   "execution_count": 40,
   "id": "880f4640",
   "metadata": {},
   "outputs": [],
   "source": [
    "Customer_Final.DOB = pd.to_datetime(Customer_Final.DOB)"
   ]
  },
  {
   "cell_type": "code",
   "execution_count": 41,
   "id": "99f16ad3",
   "metadata": {},
   "outputs": [],
   "source": [
    "Customer_Final[\"Age\"] = (datetime.datetime.now() - Customer_Final.DOB).dt.days // 365.25"
   ]
  },
  {
   "cell_type": "code",
   "execution_count": 42,
   "id": "ecb77927",
   "metadata": {},
   "outputs": [],
   "source": [
    "New_Cust = Customer_Final[(Customer_Final.Age >25) & (Customer_Final.Age<35)]"
   ]
  },
  {
   "cell_type": "code",
   "execution_count": 43,
   "id": "cac3c2ea",
   "metadata": {},
   "outputs": [
    {
     "data": {
      "text/html": [
       "<div>\n",
       "<style scoped>\n",
       "    .dataframe tbody tr th:only-of-type {\n",
       "        vertical-align: middle;\n",
       "    }\n",
       "\n",
       "    .dataframe tbody tr th {\n",
       "        vertical-align: top;\n",
       "    }\n",
       "\n",
       "    .dataframe thead th {\n",
       "        text-align: right;\n",
       "    }\n",
       "</style>\n",
       "<table border=\"1\" class=\"dataframe\">\n",
       "  <thead>\n",
       "    <tr style=\"text-align: right;\">\n",
       "      <th></th>\n",
       "      <th>transaction_id</th>\n",
       "      <th>cust_id</th>\n",
       "      <th>tran_date</th>\n",
       "      <th>prod_subcat_code</th>\n",
       "      <th>prod_cat_code</th>\n",
       "      <th>Qty</th>\n",
       "      <th>Rate</th>\n",
       "      <th>Tax</th>\n",
       "      <th>total_amt</th>\n",
       "      <th>Store_type</th>\n",
       "      <th>customer_Id</th>\n",
       "      <th>DOB</th>\n",
       "      <th>Gender</th>\n",
       "      <th>city_code</th>\n",
       "      <th>prod_cat</th>\n",
       "      <th>prod_sub_cat_code</th>\n",
       "      <th>prod_subcat</th>\n",
       "      <th>Age</th>\n",
       "    </tr>\n",
       "  </thead>\n",
       "  <tbody>\n",
       "    <tr>\n",
       "      <th>7</th>\n",
       "      <td>90501340928</td>\n",
       "      <td>271817</td>\n",
       "      <td>2012-02-19</td>\n",
       "      <td>1</td>\n",
       "      <td>1</td>\n",
       "      <td>1</td>\n",
       "      <td>1122</td>\n",
       "      <td>117.810</td>\n",
       "      <td>1239.810</td>\n",
       "      <td>TeleShop</td>\n",
       "      <td>271817</td>\n",
       "      <td>1989-12-24</td>\n",
       "      <td>M</td>\n",
       "      <td>8.0</td>\n",
       "      <td>Clothing</td>\n",
       "      <td>1</td>\n",
       "      <td>Women</td>\n",
       "      <td>33.0</td>\n",
       "    </tr>\n",
       "    <tr>\n",
       "      <th>11</th>\n",
       "      <td>90954125896</td>\n",
       "      <td>269387</td>\n",
       "      <td>2013-03-18</td>\n",
       "      <td>1</td>\n",
       "      <td>1</td>\n",
       "      <td>4</td>\n",
       "      <td>839</td>\n",
       "      <td>352.380</td>\n",
       "      <td>3708.380</td>\n",
       "      <td>MBR</td>\n",
       "      <td>269387</td>\n",
       "      <td>1990-03-02</td>\n",
       "      <td>F</td>\n",
       "      <td>10.0</td>\n",
       "      <td>Clothing</td>\n",
       "      <td>1</td>\n",
       "      <td>Women</td>\n",
       "      <td>33.0</td>\n",
       "    </tr>\n",
       "    <tr>\n",
       "      <th>17</th>\n",
       "      <td>11999444239</td>\n",
       "      <td>268052</td>\n",
       "      <td>2012-06-18</td>\n",
       "      <td>1</td>\n",
       "      <td>1</td>\n",
       "      <td>2</td>\n",
       "      <td>1324</td>\n",
       "      <td>278.040</td>\n",
       "      <td>2926.040</td>\n",
       "      <td>Flagship store</td>\n",
       "      <td>268052</td>\n",
       "      <td>1988-12-18</td>\n",
       "      <td>M</td>\n",
       "      <td>7.0</td>\n",
       "      <td>Clothing</td>\n",
       "      <td>1</td>\n",
       "      <td>Women</td>\n",
       "      <td>34.0</td>\n",
       "    </tr>\n",
       "    <tr>\n",
       "      <th>23</th>\n",
       "      <td>57134739558</td>\n",
       "      <td>270625</td>\n",
       "      <td>2014-02-14</td>\n",
       "      <td>1</td>\n",
       "      <td>1</td>\n",
       "      <td>5</td>\n",
       "      <td>595</td>\n",
       "      <td>312.375</td>\n",
       "      <td>3287.375</td>\n",
       "      <td>TeleShop</td>\n",
       "      <td>270625</td>\n",
       "      <td>1992-03-02</td>\n",
       "      <td>M</td>\n",
       "      <td>6.0</td>\n",
       "      <td>Clothing</td>\n",
       "      <td>1</td>\n",
       "      <td>Women</td>\n",
       "      <td>31.0</td>\n",
       "    </tr>\n",
       "    <tr>\n",
       "      <th>24</th>\n",
       "      <td>42584381402</td>\n",
       "      <td>270625</td>\n",
       "      <td>2012-06-22</td>\n",
       "      <td>1</td>\n",
       "      <td>1</td>\n",
       "      <td>5</td>\n",
       "      <td>1371</td>\n",
       "      <td>719.775</td>\n",
       "      <td>7574.775</td>\n",
       "      <td>TeleShop</td>\n",
       "      <td>270625</td>\n",
       "      <td>1992-03-02</td>\n",
       "      <td>M</td>\n",
       "      <td>6.0</td>\n",
       "      <td>Clothing</td>\n",
       "      <td>1</td>\n",
       "      <td>Women</td>\n",
       "      <td>31.0</td>\n",
       "    </tr>\n",
       "  </tbody>\n",
       "</table>\n",
       "</div>"
      ],
      "text/plain": [
       "    transaction_id  cust_id  tran_date  prod_subcat_code  prod_cat_code  Qty  \\\n",
       "7      90501340928   271817 2012-02-19                 1              1    1   \n",
       "11     90954125896   269387 2013-03-18                 1              1    4   \n",
       "17     11999444239   268052 2012-06-18                 1              1    2   \n",
       "23     57134739558   270625 2014-02-14                 1              1    5   \n",
       "24     42584381402   270625 2012-06-22                 1              1    5   \n",
       "\n",
       "    Rate      Tax  total_amt      Store_type  customer_Id        DOB Gender  \\\n",
       "7   1122  117.810   1239.810        TeleShop       271817 1989-12-24      M   \n",
       "11   839  352.380   3708.380             MBR       269387 1990-03-02      F   \n",
       "17  1324  278.040   2926.040  Flagship store       268052 1988-12-18      M   \n",
       "23   595  312.375   3287.375        TeleShop       270625 1992-03-02      M   \n",
       "24  1371  719.775   7574.775        TeleShop       270625 1992-03-02      M   \n",
       "\n",
       "    city_code  prod_cat  prod_sub_cat_code prod_subcat   Age  \n",
       "7         8.0  Clothing                  1       Women  33.0  \n",
       "11       10.0  Clothing                  1       Women  33.0  \n",
       "17        7.0  Clothing                  1       Women  34.0  \n",
       "23        6.0  Clothing                  1       Women  31.0  \n",
       "24        6.0  Clothing                  1       Women  31.0  "
      ]
     },
     "execution_count": 43,
     "metadata": {},
     "output_type": "execute_result"
    }
   ],
   "source": [
    "New_Cust.head()"
   ]
  },
  {
   "cell_type": "code",
   "execution_count": 44,
   "id": "f2da3347",
   "metadata": {},
   "outputs": [],
   "source": [
    "#a\n",
    "\n",
    "amt_spnd = New_Cust[(New_Cust.prod_cat=='Electronics') | (New_Cust.prod_cat == 'Books')]"
   ]
  },
  {
   "cell_type": "code",
   "execution_count": 45,
   "id": "7dd16572",
   "metadata": {},
   "outputs": [],
   "source": [
    "amt_spnd = amt_spnd.total_amt.sum()"
   ]
  },
  {
   "cell_type": "code",
   "execution_count": 46,
   "id": "d6de46e2",
   "metadata": {},
   "outputs": [
    {
     "data": {
      "text/plain": [
       "4771399.945"
      ]
     },
     "execution_count": 46,
     "metadata": {},
     "output_type": "execute_result"
    }
   ],
   "source": [
    "amt_spnd"
   ]
  },
  {
   "cell_type": "code",
   "execution_count": 47,
   "id": "f000f08b",
   "metadata": {},
   "outputs": [
    {
     "name": "stdout",
     "output_type": "stream",
     "text": [
      "Total amount spent for Electronics and Books product categories is 4771399.945\n"
     ]
    }
   ],
   "source": [
    "print(f\"Total amount spent for Electronics and Books product categories is {amt_spnd}\")"
   ]
  },
  {
   "cell_type": "code",
   "execution_count": 60,
   "id": "ccb0a011",
   "metadata": {},
   "outputs": [],
   "source": [
    "#b\n",
    "\n",
    "New_Cust.tran_date = pd.to_datetime(New_Cust.tran_date)"
   ]
  },
  {
   "cell_type": "code",
   "execution_count": 61,
   "id": "c87cda58",
   "metadata": {},
   "outputs": [
    {
     "data": {
      "text/html": [
       "<div>\n",
       "<style scoped>\n",
       "    .dataframe tbody tr th:only-of-type {\n",
       "        vertical-align: middle;\n",
       "    }\n",
       "\n",
       "    .dataframe tbody tr th {\n",
       "        vertical-align: top;\n",
       "    }\n",
       "\n",
       "    .dataframe thead th {\n",
       "        text-align: right;\n",
       "    }\n",
       "</style>\n",
       "<table border=\"1\" class=\"dataframe\">\n",
       "  <thead>\n",
       "    <tr style=\"text-align: right;\">\n",
       "      <th></th>\n",
       "      <th>transaction_id</th>\n",
       "      <th>cust_id</th>\n",
       "      <th>tran_date</th>\n",
       "      <th>prod_subcat_code</th>\n",
       "      <th>prod_cat_code</th>\n",
       "      <th>Qty</th>\n",
       "      <th>Rate</th>\n",
       "      <th>Tax</th>\n",
       "      <th>total_amt</th>\n",
       "      <th>Store_type</th>\n",
       "      <th>customer_Id</th>\n",
       "      <th>DOB</th>\n",
       "      <th>Gender</th>\n",
       "      <th>city_code</th>\n",
       "      <th>prod_cat</th>\n",
       "      <th>prod_sub_cat_code</th>\n",
       "      <th>prod_subcat</th>\n",
       "      <th>Age</th>\n",
       "    </tr>\n",
       "  </thead>\n",
       "  <tbody>\n",
       "    <tr>\n",
       "      <th>7</th>\n",
       "      <td>90501340928</td>\n",
       "      <td>271817</td>\n",
       "      <td>2012-02-19</td>\n",
       "      <td>1</td>\n",
       "      <td>1</td>\n",
       "      <td>1</td>\n",
       "      <td>1122</td>\n",
       "      <td>117.810</td>\n",
       "      <td>1239.810</td>\n",
       "      <td>TeleShop</td>\n",
       "      <td>271817</td>\n",
       "      <td>1989-12-24</td>\n",
       "      <td>M</td>\n",
       "      <td>8.0</td>\n",
       "      <td>Clothing</td>\n",
       "      <td>1</td>\n",
       "      <td>Women</td>\n",
       "      <td>33.0</td>\n",
       "    </tr>\n",
       "    <tr>\n",
       "      <th>11</th>\n",
       "      <td>90954125896</td>\n",
       "      <td>269387</td>\n",
       "      <td>2013-03-18</td>\n",
       "      <td>1</td>\n",
       "      <td>1</td>\n",
       "      <td>4</td>\n",
       "      <td>839</td>\n",
       "      <td>352.380</td>\n",
       "      <td>3708.380</td>\n",
       "      <td>MBR</td>\n",
       "      <td>269387</td>\n",
       "      <td>1990-03-02</td>\n",
       "      <td>F</td>\n",
       "      <td>10.0</td>\n",
       "      <td>Clothing</td>\n",
       "      <td>1</td>\n",
       "      <td>Women</td>\n",
       "      <td>33.0</td>\n",
       "    </tr>\n",
       "    <tr>\n",
       "      <th>17</th>\n",
       "      <td>11999444239</td>\n",
       "      <td>268052</td>\n",
       "      <td>2012-06-18</td>\n",
       "      <td>1</td>\n",
       "      <td>1</td>\n",
       "      <td>2</td>\n",
       "      <td>1324</td>\n",
       "      <td>278.040</td>\n",
       "      <td>2926.040</td>\n",
       "      <td>Flagship store</td>\n",
       "      <td>268052</td>\n",
       "      <td>1988-12-18</td>\n",
       "      <td>M</td>\n",
       "      <td>7.0</td>\n",
       "      <td>Clothing</td>\n",
       "      <td>1</td>\n",
       "      <td>Women</td>\n",
       "      <td>34.0</td>\n",
       "    </tr>\n",
       "    <tr>\n",
       "      <th>23</th>\n",
       "      <td>57134739558</td>\n",
       "      <td>270625</td>\n",
       "      <td>2014-02-14</td>\n",
       "      <td>1</td>\n",
       "      <td>1</td>\n",
       "      <td>5</td>\n",
       "      <td>595</td>\n",
       "      <td>312.375</td>\n",
       "      <td>3287.375</td>\n",
       "      <td>TeleShop</td>\n",
       "      <td>270625</td>\n",
       "      <td>1992-03-02</td>\n",
       "      <td>M</td>\n",
       "      <td>6.0</td>\n",
       "      <td>Clothing</td>\n",
       "      <td>1</td>\n",
       "      <td>Women</td>\n",
       "      <td>31.0</td>\n",
       "    </tr>\n",
       "    <tr>\n",
       "      <th>24</th>\n",
       "      <td>42584381402</td>\n",
       "      <td>270625</td>\n",
       "      <td>2012-06-22</td>\n",
       "      <td>1</td>\n",
       "      <td>1</td>\n",
       "      <td>5</td>\n",
       "      <td>1371</td>\n",
       "      <td>719.775</td>\n",
       "      <td>7574.775</td>\n",
       "      <td>TeleShop</td>\n",
       "      <td>270625</td>\n",
       "      <td>1992-03-02</td>\n",
       "      <td>M</td>\n",
       "      <td>6.0</td>\n",
       "      <td>Clothing</td>\n",
       "      <td>1</td>\n",
       "      <td>Women</td>\n",
       "      <td>31.0</td>\n",
       "    </tr>\n",
       "  </tbody>\n",
       "</table>\n",
       "</div>"
      ],
      "text/plain": [
       "    transaction_id  cust_id  tran_date  prod_subcat_code  prod_cat_code  Qty  \\\n",
       "7      90501340928   271817 2012-02-19                 1              1    1   \n",
       "11     90954125896   269387 2013-03-18                 1              1    4   \n",
       "17     11999444239   268052 2012-06-18                 1              1    2   \n",
       "23     57134739558   270625 2014-02-14                 1              1    5   \n",
       "24     42584381402   270625 2012-06-22                 1              1    5   \n",
       "\n",
       "    Rate      Tax  total_amt      Store_type  customer_Id        DOB Gender  \\\n",
       "7   1122  117.810   1239.810        TeleShop       271817 1989-12-24      M   \n",
       "11   839  352.380   3708.380             MBR       269387 1990-03-02      F   \n",
       "17  1324  278.040   2926.040  Flagship store       268052 1988-12-18      M   \n",
       "23   595  312.375   3287.375        TeleShop       270625 1992-03-02      M   \n",
       "24  1371  719.775   7574.775        TeleShop       270625 1992-03-02      M   \n",
       "\n",
       "    city_code  prod_cat  prod_sub_cat_code prod_subcat   Age  \n",
       "7         8.0  Clothing                  1       Women  33.0  \n",
       "11       10.0  Clothing                  1       Women  33.0  \n",
       "17        7.0  Clothing                  1       Women  34.0  \n",
       "23        6.0  Clothing                  1       Women  31.0  \n",
       "24        6.0  Clothing                  1       Women  31.0  "
      ]
     },
     "execution_count": 61,
     "metadata": {},
     "output_type": "execute_result"
    }
   ],
   "source": [
    "New_Cust.head()"
   ]
  },
  {
   "cell_type": "code",
   "execution_count": 62,
   "id": "97d569d4",
   "metadata": {},
   "outputs": [],
   "source": [
    "amount_spnd = New_Cust[(New_Cust.tran_date > '2014-01-01') & (New_Cust.tran_date < '2014-03-01')]"
   ]
  },
  {
   "cell_type": "code",
   "execution_count": 63,
   "id": "f7f916d3",
   "metadata": {},
   "outputs": [],
   "source": [
    "amount_spnd = amount_spnd.total_amt.sum()"
   ]
  },
  {
   "cell_type": "code",
   "execution_count": 64,
   "id": "ee9bd00a",
   "metadata": {},
   "outputs": [
    {
     "data": {
      "text/plain": [
       "333549.775"
      ]
     },
     "execution_count": 64,
     "metadata": {},
     "output_type": "execute_result"
    }
   ],
   "source": [
    "amount_spnd"
   ]
  },
  {
   "cell_type": "code",
   "execution_count": 65,
   "id": "98be4bbd",
   "metadata": {},
   "outputs": [
    {
     "name": "stdout",
     "output_type": "stream",
     "text": [
      "total amount spent between 1st Jan, 2014 to 1st Mar, 2014 is 333549.775\n"
     ]
    }
   ],
   "source": [
    "print(f'total amount spent between 1st Jan, 2014 to 1st Mar, 2014 is {amount_spnd}')"
   ]
  },
  {
   "cell_type": "code",
   "execution_count": null,
   "id": "e976b8d9",
   "metadata": {},
   "outputs": [],
   "source": []
  }
 ],
 "metadata": {
  "kernelspec": {
   "display_name": "Python 3 (ipykernel)",
   "language": "python",
   "name": "python3"
  },
  "language_info": {
   "codemirror_mode": {
    "name": "ipython",
    "version": 3
   },
   "file_extension": ".py",
   "mimetype": "text/x-python",
   "name": "python",
   "nbconvert_exporter": "python",
   "pygments_lexer": "ipython3",
   "version": "3.9.12"
  }
 },
 "nbformat": 4,
 "nbformat_minor": 5
}
